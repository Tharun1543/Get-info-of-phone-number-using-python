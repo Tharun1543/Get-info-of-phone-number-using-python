{
 "cells": [
  {
   "cell_type": "code",
   "execution_count": 13,
   "id": "afec4d90",
   "metadata": {},
   "outputs": [
    {
     "name": "stdout",
     "output_type": "stream",
     "text": [
      "Requirement already satisfied: phonenumbers in c:\\users\\dell\\anaconda3\\anaconda\\lib\\site-packages (8.13.14)\n",
      "Note: you may need to restart the kernel to use updated packages.\n"
     ]
    }
   ],
   "source": [
    "pip install phonenumbers"
   ]
  },
  {
   "cell_type": "code",
   "execution_count": 14,
   "id": "a70c8287",
   "metadata": {},
   "outputs": [],
   "source": [
    "import phonenumbers"
   ]
  },
  {
   "cell_type": "code",
   "execution_count": 15,
   "id": "ef2e796c",
   "metadata": {},
   "outputs": [],
   "source": [
    "from phonenumbers import carrier, geocoder, timezone"
   ]
  },
  {
   "cell_type": "code",
   "execution_count": 16,
   "id": "5cd26294",
   "metadata": {},
   "outputs": [
    {
     "name": "stdout",
     "output_type": "stream",
     "text": [
      "Enter Phone number with country code:+91 6303026681\n"
     ]
    }
   ],
   "source": [
    "mobileNo=input(\"Enter Phone number with country code:\")"
   ]
  },
  {
   "cell_type": "code",
   "execution_count": 17,
   "id": "225e938e",
   "metadata": {},
   "outputs": [],
   "source": [
    "mobileNo=phonenumbers.parse(mobileNo)"
   ]
  },
  {
   "cell_type": "code",
   "execution_count": 18,
   "id": "03e77501",
   "metadata": {},
   "outputs": [
    {
     "name": "stdout",
     "output_type": "stream",
     "text": [
      "Phone Number belongs to region : ('Asia/Calcutta',)\n",
      "Service Provider :  Reliance Jio\n",
      "Phone number belongs to country :  India\n"
     ]
    }
   ],
   "source": [
    "if phonenumbers.is_valid_number(mobileNo):\n",
    "    print('Phone Number belongs to region :',timezone.time_zones_for_number(mobileNo))\n",
    "    print('Service Provider : ',carrier.name_for_number(mobileNo,\"en\"))\n",
    "    print('Phone number belongs to country : ',geocoder.description_for_number(mobileNo,\"en\"))\n",
    "else:\n",
    "    print(\"Please enter valid mobile number\")"
   ]
  },
  {
   "cell_type": "code",
   "execution_count": null,
   "id": "82644714",
   "metadata": {},
   "outputs": [],
   "source": []
  }
 ],
 "metadata": {
  "kernelspec": {
   "display_name": "Python 3 (ipykernel)",
   "language": "python",
   "name": "python3"
  },
  "language_info": {
   "codemirror_mode": {
    "name": "ipython",
    "version": 3
   },
   "file_extension": ".py",
   "mimetype": "text/x-python",
   "name": "python",
   "nbconvert_exporter": "python",
   "pygments_lexer": "ipython3",
   "version": "3.9.12"
  }
 },
 "nbformat": 4,
 "nbformat_minor": 5
}
